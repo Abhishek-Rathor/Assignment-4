{
 "cells": [
  {
   "cell_type": "code",
   "execution_count": null,
   "id": "1b30cedc-078d-4b23-95c7-cb33e5adffcb",
   "metadata": {},
   "outputs": [],
   "source": [
    "Q1. What is Abstraction in OOps? Explain with an example."
   ]
  },
  {
   "cell_type": "code",
   "execution_count": null,
   "id": "74a96df9-f5f6-4c04-9baa-88e15f42a67e",
   "metadata": {},
   "outputs": [],
   "source": [
    "Ans. Abstraction is a process that handle the complexity by hiding\n",
    "unnecessary information from the user   \n",
    "or\n",
    "Abstracr class is use as make a  \"Skeleton\" or design a \"Blueprint\""
   ]
  },
  {
   "cell_type": "code",
   "execution_count": null,
   "id": "cf52c315-8c68-41cc-9f88-76a88b747e51",
   "metadata": {},
   "outputs": [],
   "source": [
    "Q2. Differentiate between Abstraction and Encapsulation. Explain with an example."
   ]
  },
  {
   "cell_type": "code",
   "execution_count": null,
   "id": "0a236000-bd5a-4d6e-93b4-4eace7b3f94d",
   "metadata": {},
   "outputs": [],
   "source": [
    "Ans. Encapsulation is used to private or hide the data from user. And\n",
    "Abstract is used to hide only the unwanted data\n",
    "\n",
    "Example:\n",
    "    \n",
    "   --> In Encapsulation total data is hide from user, there user \n",
    "    can access some thing only\n",
    "    --> But this not happend in Abstract\n"
   ]
  },
  {
   "cell_type": "code",
   "execution_count": null,
   "id": "61e2c779-beb4-47f9-baca-28f5bb59813a",
   "metadata": {},
   "outputs": [],
   "source": [
    "Q3. What is abc module in python? Why is it used?"
   ]
  },
  {
   "cell_type": "code",
   "execution_count": null,
   "id": "bb40cff0-242f-442e-a20f-7e142baeb929",
   "metadata": {},
   "outputs": [],
   "source": [
    "Ans. abc model is Python library, that provides a library for defining\n",
    "custome abstract base class. This is done by abstractmethod"
   ]
  },
  {
   "cell_type": "code",
   "execution_count": null,
   "id": "58c9588f-06b4-43d4-aa00-55c205367c72",
   "metadata": {},
   "outputs": [],
   "source": [
    "Q4. How can we achieve data abstraction?"
   ]
  },
  {
   "cell_type": "code",
   "execution_count": null,
   "id": "c6552edf-11ac-4a38-ac07-5c54a6fe095b",
   "metadata": {},
   "outputs": [],
   "source": [
    "Ans. Data abstraction can be achieved through creating abstract classess and inheriting\n",
    "them"
   ]
  },
  {
   "cell_type": "code",
   "execution_count": null,
   "id": "1b33a86f-81bc-46a8-8dce-5b64b4e24dcd",
   "metadata": {},
   "outputs": [],
   "source": [
    "Q5.Can we create an instance of an abstract class? Explain your answer."
   ]
  },
  {
   "cell_type": "code",
   "execution_count": null,
   "id": "c9c3f513-d11d-49a9-926f-c7b5cb5fad90",
   "metadata": {},
   "outputs": [],
   "source": [
    "Ans. We can create a instance of an abstract class,\n",
    "It is an incpmplete class that contains abstract method without any\n",
    "implemetation . Therefore we can not create a instance of abstract class"
   ]
  }
 ],
 "metadata": {
  "kernelspec": {
   "display_name": "Python 3 (ipykernel)",
   "language": "python",
   "name": "python3"
  },
  "language_info": {
   "codemirror_mode": {
    "name": "ipython",
    "version": 3
   },
   "file_extension": ".py",
   "mimetype": "text/x-python",
   "name": "python",
   "nbconvert_exporter": "python",
   "pygments_lexer": "ipython3",
   "version": "3.10.8"
  }
 },
 "nbformat": 4,
 "nbformat_minor": 5
}
